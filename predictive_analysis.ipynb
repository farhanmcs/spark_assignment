{
 "cells": [
  {
   "cell_type": "markdown",
   "id": "722d5a84-b9c8-41ad-8751-de7a50567be2",
   "metadata": {},
   "source": [
    "Creating Spark Session and configuring CPU and Memory resources for this Spark Session. \n",
    "Read all the downloaded Parquet files in a Dataframe (df) from \"parquet_files\" folder. \n",
    "Infer schema from parquet files automatically and create a Table like temporary view \"ccnews\".\n",
    "Now we can query data from \"ccnews\" just like any other tabe using SQL queries."
   ]
  },
  {
   "cell_type": "code",
   "execution_count": 1,
   "id": "0eeca3fe-fb9b-474c-818e-44f4d1ff2505",
   "metadata": {},
   "outputs": [],
   "source": [
    "import pandas as pd\n",
    "from pyspark.sql import SparkSession\n",
    "\n",
    "spark = SparkSession.builder \\\n",
    "    .master('local[4]') \\\n",
    "    .appName('predictive_analysis') \\\n",
    "    .config('spark.executor.memory', '10gb') \\\n",
    "    .config(\"spark.cores.max\", \"6\") \\\n",
    "    .getOrCreate()\n",
    "\n",
    "# Enable Arrow-based columnar data transfers\n",
    "spark.conf.set(\"spark.sql.execution.arrow.pyspark.enabled\", \"true\")\n",
    "\n",
    "df = spark.read \\\n",
    "    .option(\"inferSchema\", \"true\") \\\n",
    "    .option(\"header\", \"true\") \\\n",
    "    .option(\"compression\", \"snappy\") \\\n",
    "    .parquet(\"../parquet_files/\")\n",
    "\n",
    "df.createOrReplaceTempView(\"ccnews\")"
   ]
  },
  {
   "cell_type": "markdown",
   "id": "e6ae78a7-14ec-4c6b-bee9-8f19be38ea39",
   "metadata": {},
   "source": [
    "Create a DataFrame from the result of Spark SQL Query\n",
    "Convert spark dataframe to Pandas Data Frame for visualizations\n",
    "Convert Pandas dataframe to Spark Data Frame"
   ]
  },
  {
   "cell_type": "code",
   "execution_count": 2,
   "id": "ee1f0c72-d0fd-4be5-b38f-c13c7ad0a905",
   "metadata": {},
   "outputs": [],
   "source": [
    "#query_df = spark.sql(\"select count(*) from ccnews\")\n",
    "#pandas_df = query_df.select(\"*\").toPandas()\n",
    "#spark_df = spark.createDataFrame(pandas_df)"
   ]
  },
  {
   "cell_type": "code",
   "execution_count": 15,
   "id": "f642af40-a409-4bcd-8634-2b1177a7964e",
   "metadata": {},
   "outputs": [
    {
     "name": "stdout",
     "output_type": "stream",
     "text": [
      "+--------------+---------+-------+\n",
      "|      col_name|data_type|comment|\n",
      "+--------------+---------+-------+\n",
      "| requested_url|   string|   NULL|\n",
      "|    plain_text|   string|   NULL|\n",
      "|published_date|   string|   NULL|\n",
      "|         title|   string|   NULL|\n",
      "|          tags|   string|   NULL|\n",
      "|    categories|   string|   NULL|\n",
      "|        author|   string|   NULL|\n",
      "|      sitename|   string|   NULL|\n",
      "|     image_url|   string|   NULL|\n",
      "|      language|   string|   NULL|\n",
      "|language_score|   double|   NULL|\n",
      "| responded_url|   string|   NULL|\n",
      "|     publisher|   string|   NULL|\n",
      "|     warc_path|   string|   NULL|\n",
      "|    crawl_date|   string|   NULL|\n",
      "+--------------+---------+-------+\n",
      "\n"
     ]
    }
   ],
   "source": [
    "spark.sql(\"describe ccnews\").show()"
   ]
  },
  {
   "cell_type": "code",
   "execution_count": 50,
   "id": "d72fb2cb-f0c5-41c7-897a-12e95c19bd96",
   "metadata": {},
   "outputs": [
    {
     "name": "stdout",
     "output_type": "stream",
     "text": [
      "+------------------+-----+----+\n",
      "|         publisher|   cp|rank|\n",
      "+------------------+-----+----+\n",
      "|     citizen.co.za|    2|   1|\n",
      "|     kwevoel.co.za|    2|   2|\n",
      "|     proagri.co.za|   50|   3|\n",
      "|am.vse-o-tattoo.ru|    1|   1|\n",
      "|            dw.com|   75|   2|\n",
      "|  einpresswire.com|    3|   3|\n",
      "|      4algeria.com|   28|   1|\n",
      "|      agrimaroc.ma|    7|   2|\n",
      "|       aitnews.com|   45|   3|\n",
      "| akhbarlibya24.net| 2827|   4|\n",
      "|   alahalygate.com| 2010|   5|\n",
      "|         alalam.ir| 7399|   6|\n",
      "|     alarabiya.net|11658|   7|\n",
      "|   albaathmedia.sy|  687|   8|\n",
      "|  albawabhnews.com|34997|   9|\n",
      "|        albayan.ae|18031|  10|\n",
      "|  albiladdaily.com| 1724|  11|\n",
      "|         aleqt.com|  768|  12|\n",
      "|       aletihad.ae|12494|  13|\n",
      "|        alghad.com| 9088|  14|\n",
      "+------------------+-----+----+\n",
      "only showing top 20 rows\n",
      "\n"
     ]
    }
   ],
   "source": [
    "spark.sql(\"select publisher, count(1) as cp, \\\n",
    "ROW_NUMBER() OVER (PARTITION BY language ORDER BY publisher) as rank \\\n",
    "FROM ccnews GROUP BY language, publisher\").show()"
   ]
  },
  {
   "cell_type": "code",
   "execution_count": null,
   "id": "a13d0366-9596-48e6-b733-ba51ab0b3ffe",
   "metadata": {},
   "outputs": [],
   "source": []
  }
 ],
 "metadata": {
  "kernelspec": {
   "display_name": "Python 3 (ipykernel)",
   "language": "python",
   "name": "python3"
  },
  "language_info": {
   "codemirror_mode": {
    "name": "ipython",
    "version": 3
   },
   "file_extension": ".py",
   "mimetype": "text/x-python",
   "name": "python",
   "nbconvert_exporter": "python",
   "pygments_lexer": "ipython3",
   "version": "3.13.0rc2"
  }
 },
 "nbformat": 4,
 "nbformat_minor": 5
}
