{
 "cells": [
  {
   "cell_type": "markdown",
   "id": "91d399c7-1092-435f-8539-388959a2bb10",
   "metadata": {},
   "source": [
    "Creating Spark Session and configuring CPU and Memory resources for this Spark Session. \n",
    "Read all the downloaded Parquet files in a Dataframe (df) from \"parquet_files\" folder. \n",
    "Infer schema from parquet files automatically and create a Table like temporary view \"ccnews\".\n",
    "Now we can query data from \"ccnews\" just like any other tabe using SQL queries."
   ]
  },
  {
   "cell_type": "code",
   "execution_count": 37,
   "id": "7053b19f-44ff-4a0f-b1fa-6705dd419bf7",
   "metadata": {},
   "outputs": [],
   "source": [
    "from pyspark.sql import SparkSession\n",
    "spark = SparkSession.builder \\\n",
    "    .master('local[4]') \\\n",
    "    .appName('content_analysis') \\\n",
    "    .config('spark.executor.memory', '10gb') \\\n",
    "    .config(\"spark.cores.max\", \"6\") \\\n",
    "    .getOrCreate()\n",
    "\n",
    "df = spark.read \\\n",
    "    .option(\"inferSchema\", \"true\") \\\n",
    "    .option(\"header\", \"true\") \\\n",
    "    .option(\"compression\", \"snappy\") \\\n",
    "    .parquet(\"./parquet_files/\")\n",
    "\n",
    "df.createOrReplaceTempView(\"ccnews\")"
   ]
  },
  {
   "cell_type": "markdown",
   "id": "0f9105be-a2e6-49b7-97ef-dfe3a4c466f6",
   "metadata": {},
   "source": [
    "By executing the following query we will discover what’s the most frequently covered category in \"English\" language in every Year.\n",
    "Data is partitioned by Year and most visited catagory in each year is displayed.\n",
    "You can also view 2nd or 3rd most visited catagory by changing the rank value in last line of query."
   ]
  },
  {
   "cell_type": "code",
   "execution_count": 40,
   "id": "61b74097-1ed9-4967-8a48-4ef4c0acbfef",
   "metadata": {},
   "outputs": [
    {
     "name": "stderr",
     "output_type": "stream",
     "text": [
      "                                                                                \r"
     ]
    },
    {
     "name": "stdout",
     "output_type": "stream",
     "text": [
      "+-----------------------------------------------------------------------------------------------------------------------------------------------------------------------------------------------------------------------------------------------------------------+---------+--------------+-------------+\n",
      "|news_category                                                                                                                                                                                                                                                    |frequency|published_year|news_language|\n",
      "+-----------------------------------------------------------------------------------------------------------------------------------------------------------------------------------------------------------------------------------------------------------------+---------+--------------+-------------+\n",
      "|News                                                                                                                                                                                                                                                             |12239    |2024          |en           |\n",
      "|News                                                                                                                                                                                                                                                             |25810    |2023          |en           |\n",
      "|News                                                                                                                                                                                                                                                             |21486    |2022          |en           |\n",
      "|Historical;News;Death Announcements;General Announcements;Alive Word;CariMAN;Dear Bella;Ghost Stories;Health Talk;Just Dennis;Natural Healing;Stay Well & Sparkle!;Business In Focus;Check This Out;Commentary;Letters to the Editor;Featured Photo;Poetry Corner|51       |2021          |en           |\n",
      "|Historical;News;Death Announcements;General Announcements;Alive Word;CariMAN;Dear Bella;Ghost Stories;Health Talk;Just Dennis;Natural Healing;Stay Well & Sparkle!;Business In Focus;Check This Out;Commentary;Letters to the Editor;Featured Photo;Poetry Corner|25       |2020          |en           |\n",
      "|News                                                                                                                                                                                                                                                             |236      |2019          |en           |\n",
      "|News                                                                                                                                                                                                                                                             |146      |2018          |en           |\n",
      "|News                                                                                                                                                                                                                                                             |213290   |2017          |en           |\n",
      "|News                                                                                                                                                                                                                                                             |35955    |2016          |en           |\n",
      "|U.S.                                                                                                                                                                                                                                                             |1007     |2015          |en           |\n",
      "|News - Article                                                                                                                                                                                                                                                   |999      |2014          |en           |\n",
      "|News - Article                                                                                                                                                                                                                                                   |982      |2013          |en           |\n",
      "|News - Article                                                                                                                                                                                                                                                   |991      |2012          |en           |\n",
      "|News - Article                                                                                                                                                                                                                                                   |849      |2011          |en           |\n",
      "|News - Article                                                                                                                                                                                                                                                   |1007     |2010          |en           |\n",
      "|News - Article                                                                                                                                                                                                                                                   |957      |2009          |en           |\n",
      "|News - Article                                                                                                                                                                                                                                                   |957      |2008          |en           |\n",
      "|News - Article                                                                                                                                                                                                                                                   |89       |2007          |en           |\n",
      "|UK news                                                                                                                                                                                                                                                          |9        |2006          |en           |\n",
      "|News                                                                                                                                                                                                                                                             |9        |2005          |en           |\n",
      "|UK news                                                                                                                                                                                                                                                          |7        |2004          |en           |\n",
      "|UK news                                                                                                                                                                                                                                                          |6        |2003          |en           |\n",
      "|Sport                                                                                                                                                                                                                                                            |14       |2002          |en           |\n",
      "|UK news                                                                                                                                                                                                                                                          |5        |2001          |en           |\n",
      "|Government                                                                                                                                                                                                                                                       |52       |2000          |en           |\n",
      "|UK news                                                                                                                                                                                                                                                          |3        |1999          |en           |\n",
      "|Blog;Ephemera                                                                                                                                                                                                                                                    |23       |1997          |en           |\n",
      "|الغزو الروسي;أوكرانيا;العالم;المجتمع;سياسة;اقتصاد;أوروبا الشرقية;رياضة                                                                                                                                                                                           |3        |1995          |en           |\n",
      "+-----------------------------------------------------------------------------------------------------------------------------------------------------------------------------------------------------------------------------------------------------------------+---------+--------------+-------------+\n",
      "\n"
     ]
    }
   ],
   "source": [
    "english_df = spark.sql(\"select news_category, frequency, published_year, news_language from ( \\\n",
    "(select news_category, frequency, published_year, news_language, \\\n",
    "ROW_NUMBER() OVER (PARTITION BY published_year ORDER BY frequency DESC) as rank \\\n",
    "from ( \\\n",
    "select categories as news_category, count(1) as frequency, \\\n",
    "any_value(language) as news_language, \\\n",
    "YEAR(published_date) as published_year from ccnews \\\n",
    "where language='en' group by categories, published_year having LENGTH(categories)!=0 and categories!='none' \\\n",
    "order by frequency desc ))) \\\n",
    "where rank <= 1 order by published_year desc\") \\\n",
    ".show(df.count(),False)"
   ]
  },
  {
   "cell_type": "markdown",
   "id": "2a4b91cd-d492-4996-8e91-14acf833df1f",
   "metadata": {},
   "source": [
    "By executing the following query we will discover what’s the most frequently covered category in \"Arabic\" language in every Year.\n",
    "Data is partitioned by Year and most visited catagory in each year is displayed.\n",
    "You can also view 2nd or 3rd most visited catagory by changing the rank value in last line of query."
   ]
  },
  {
   "cell_type": "code",
   "execution_count": 42,
   "id": "3a30ef1a-46de-4701-882f-e65036a7bd30",
   "metadata": {},
   "outputs": [
    {
     "name": "stderr",
     "output_type": "stream",
     "text": [
      "[Stage 82:=====================================================>(189 + 1) / 190]\r"
     ]
    },
    {
     "name": "stdout",
     "output_type": "stream",
     "text": [
      "+--------------------------+---------+--------------+-------------+\n",
      "|news_category             |frequency|published_year|news_language|\n",
      "+--------------------------+---------+--------------+-------------+\n",
      "|أخبار مصر                 |1388     |2024          |ar           |\n",
      "|اخبار العالم              |872      |2024          |ar           |\n",
      "|أخبار مصر                 |1242     |2023          |ar           |\n",
      "|الأخبار                   |651      |2023          |ar           |\n",
      "|أخبار عالمية              |716      |2022          |ar           |\n",
      "|أخبار مصر                 |712      |2022          |ar           |\n",
      "|اخبار اليمن               |18       |2021          |ar           |\n",
      "|أخبار عالمية              |4        |2021          |ar           |\n",
      "|أخبار عربية               |1        |2020          |ar           |\n",
      "|أمريكا                    |1        |2020          |ar           |\n",
      "|أهم الاخبار               |1        |2019          |ar           |\n",
      "|ثقافة وفنون               |1        |2019          |ar           |\n",
      "|الرياضي;ملاعب الإمارات    |21       |2018          |ar           |\n",
      "|عبر الإمارات;أخبار وتقارير|20       |2018          |ar           |\n",
      "|الاخبار المحلية           |8512     |2017          |ar           |\n",
      "|مصر                       |4753     |2017          |ar           |\n",
      "|News - Article            |5247     |2016          |ar           |\n",
      "|آخر الأخبار               |2350     |2016          |ar           |\n",
      "|News - Article            |3319     |2015          |ar           |\n",
      "|الصفحة الاولى             |19       |2015          |ar           |\n",
      "|News - Article            |2900     |2014          |ar           |\n",
      "|نجوم ومشاهير              |102      |2014          |ar           |\n",
      "|News - Article            |3009     |2013          |ar           |\n",
      "|السعودية اليوم            |4        |2013          |ar           |\n",
      "|News - Article            |978      |2012          |ar           |\n",
      "|Enseignement              |1        |2012          |ar           |\n",
      "|News - Article            |1491     |2011          |ar           |\n",
      "|Enseignement              |1        |2011          |ar           |\n",
      "|News - Article            |145      |2010          |ar           |\n",
      "|Régional                  |3        |2010          |ar           |\n",
      "|International             |1        |2007          |ar           |\n",
      "|National                  |1        |2007          |ar           |\n",
      "|International             |1        |2006          |ar           |\n",
      "|Régional                  |1        |2006          |ar           |\n",
      "+--------------------------+---------+--------------+-------------+\n",
      "\n"
     ]
    },
    {
     "name": "stderr",
     "output_type": "stream",
     "text": [
      "                                                                                \r"
     ]
    }
   ],
   "source": [
    "english_df = spark.sql(\"select news_category, frequency, published_year, news_language from ( \\\n",
    "(select news_category, frequency, published_year, news_language, \\\n",
    "ROW_NUMBER() OVER (PARTITION BY published_year ORDER BY frequency DESC) as rank \\\n",
    "from ( \\\n",
    "select categories as news_category, count(1) as frequency, \\\n",
    "any_value(language) as news_language, \\\n",
    "YEAR(published_date) as published_year from ccnews \\\n",
    "where language='ar' group by categories, published_year having LENGTH(categories)!=0 and categories!='none' \\\n",
    "order by frequency desc ))) \\\n",
    "where rank <= 2 order by published_year desc\") \\\n",
    ".show(df.count(),False)"
   ]
  },
  {
   "cell_type": "code",
   "execution_count": null,
   "id": "811a6998-44b2-44eb-aaeb-d72d74b92fec",
   "metadata": {},
   "outputs": [],
   "source": []
  }
 ],
 "metadata": {
  "kernelspec": {
   "display_name": "Python 3 (ipykernel)",
   "language": "python",
   "name": "python3"
  },
  "language_info": {
   "codemirror_mode": {
    "name": "ipython",
    "version": 3
   },
   "file_extension": ".py",
   "mimetype": "text/x-python",
   "name": "python",
   "nbconvert_exporter": "python",
   "pygments_lexer": "ipython3",
   "version": "3.12.7"
  }
 },
 "nbformat": 4,
 "nbformat_minor": 5
}
