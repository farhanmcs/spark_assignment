{
 "cells": [
  {
   "cell_type": "markdown",
   "id": "5bfb2806-2404-4bfc-88d9-9ff48dfc99aa",
   "metadata": {},
   "source": [
    "Creating Spark Session and configuring CPU and Memory resources for this Spark Session. \n",
    "Read all the downloaded Parquet files in a Dataframe (df) from \"parquet_files\" folder. \n",
    "Infer schema from parquet files automatically and create a Table like temporary view \"ccnews\".\n",
    "Now we can query data from \"ccnews\" just like any other tabe using SQL queries."
   ]
  },
  {
   "cell_type": "code",
   "execution_count": 158,
   "id": "f4581c90-cb2e-4780-987d-f1960e0482c8",
   "metadata": {},
   "outputs": [],
   "source": [
    "from pyspark.sql import SparkSession\n",
    "spark = SparkSession.builder \\\n",
    "    .master('local[4]') \\\n",
    "    .appName('advertisement') \\\n",
    "    .config('spark.executor.memory', '10gb') \\\n",
    "    .config(\"spark.cores.max\", \"6\") \\\n",
    "    .getOrCreate()\n",
    "\n",
    "df = spark.read \\\n",
    "    .option(\"inferSchema\", \"true\") \\\n",
    "    .option(\"header\", \"true\") \\\n",
    "    .option(\"compression\", \"snappy\") \\\n",
    "    .parquet(\"./parquet_files/\")\n",
    "\n",
    "df.createOrReplaceTempView(\"ccnews\")"
   ]
  },
  {
   "cell_type": "markdown",
   "id": "c83842df-b517-48fb-bde7-4fac12d6e440",
   "metadata": {},
   "source": [
    "Following query will list down the most trending article of every month in year 2023 with English language\n",
    "We have partitioned the data by Year and Month and select the article with maximum page visits per month\n",
    "Query result is organized per month for the year mentioned in HAVING clause at the end of 3rd last line (published_year=2016)"
   ]
  },
  {
   "cell_type": "code",
   "execution_count": 165,
   "id": "cab14b7f-cfa2-45ef-b9d1-c8c3961ec689",
   "metadata": {},
   "outputs": [
    {
     "name": "stderr",
     "output_type": "stream",
     "text": [
      "                                                                                \r"
     ]
    },
    {
     "name": "stdout",
     "output_type": "stream",
     "text": [
      "+----------------+-----------+---------------+--------------+\n",
      "|trending_article|page_visits|published_month|published_year|\n",
      "+----------------+-----------+---------------+--------------+\n",
      "|        National|        140|              1|          2023|\n",
      "|Northern Ireland|         35|              2|          2023|\n",
      "|   International|          5|              3|          2023|\n",
      "|        National|        150|              4|          2023|\n",
      "|   Entertainment|         17|              5|          2023|\n",
      "|          Sports|         24|              6|          2023|\n",
      "|            News|      25777|              7|          2023|\n",
      "|     Nova Scotia|          3|              8|          2023|\n",
      "|         Toronto|          2|              9|          2023|\n",
      "|   International|        263|             10|          2023|\n",
      "|        Olympics|          2|             11|          2023|\n",
      "|  War in Ukraine|         61|             12|          2023|\n",
      "+----------------+-----------+---------------+--------------+\n",
      "\n"
     ]
    }
   ],
   "source": [
    "spark.sql(\"select categories as trending_article, frequency as page_visits, published_month, published_year \\\n",
    "from (select *, ROW_NUMBER() OVER (PARTITION BY published_year, published_month ORDER BY frequency DESC) as rank \\\n",
    "from (select categories, count(1) as frequency, YEAR(published_date) as published_year, \\\n",
    "MONTH(published_date) as published_month from ccnews \\\n",
    "where language='en' GROUP BY categories, published_year, published_month \\\n",
    "HAVING LENGTH(categories)!=0 and categories!='none' and published_year=2023 \\\n",
    "ORDER BY published_year desc, published_month asc, frequency desc)) \\\n",
    "where rank <= 1 ORDER BY published_month ASC \").show()"
   ]
  },
  {
   "cell_type": "markdown",
   "id": "6c0f91a6-303a-4962-ae2d-996dc38d635b",
   "metadata": {},
   "source": [
    "Following query will list down the most trending article of every month in year 2022 with English language.\n",
    "You can visualize data for another year by changing value of \"published_year\" to the year of your choice."
   ]
  },
  {
   "cell_type": "code",
   "execution_count": 167,
   "id": "1527e8cb-a253-4857-b232-154214808af7",
   "metadata": {},
   "outputs": [
    {
     "name": "stderr",
     "output_type": "stream",
     "text": [
      "                                                                                \r"
     ]
    },
    {
     "name": "stdout",
     "output_type": "stream",
     "text": [
      "+----------------+-----------+---------------+--------------+\n",
      "|trending_article|page_visits|published_month|published_year|\n",
      "+----------------+-----------+---------------+--------------+\n",
      "|        Pakistan|         13|              1|          2022|\n",
      "|            News|         24|              2|          2022|\n",
      "|  War in Ukraine|          8|              3|          2022|\n",
      "|          hybrid|          2|              4|          2022|\n",
      "|            news|         15|              5|          2022|\n",
      "|        Politics|         43|              6|          2022|\n",
      "|  War in Ukraine|         15|              7|          2022|\n",
      "|   Entertainment|          2|              8|          2022|\n",
      "|        National|        149|              9|          2022|\n",
      "| Latest;Pakistan|         71|             10|          2022|\n",
      "|           Local|         62|             11|          2022|\n",
      "|            News|      21428|             12|          2022|\n",
      "+----------------+-----------+---------------+--------------+\n",
      "\n"
     ]
    }
   ],
   "source": [
    "spark.sql(\"select categories as trending_article, frequency as page_visits, published_month, published_year \\\n",
    "from (select *, ROW_NUMBER() OVER (PARTITION BY published_year, published_month ORDER BY frequency DESC) as rank \\\n",
    "from (select categories, count(1) as frequency, YEAR(published_date) as published_year, \\\n",
    "MONTH(published_date) as published_month from ccnews \\\n",
    "where language='en' GROUP BY categories, published_year, published_month \\\n",
    "having LENGTH(categories)!=0 and categories!='none' and published_year=2022 \\\n",
    "ORDER BY published_year desc, published_month asc, frequency desc)) \\\n",
    "where rank <= 1 ORDER BY published_month ASC \").show()"
   ]
  },
  {
   "cell_type": "code",
   "execution_count": null,
   "id": "6ad01504-9edd-471a-a1cd-f74ccebcf5b5",
   "metadata": {},
   "outputs": [],
   "source": []
  }
 ],
 "metadata": {
  "kernelspec": {
   "display_name": "Python 3 (ipykernel)",
   "language": "python",
   "name": "python3"
  },
  "language_info": {
   "codemirror_mode": {
    "name": "ipython",
    "version": 3
   },
   "file_extension": ".py",
   "mimetype": "text/x-python",
   "name": "python",
   "nbconvert_exporter": "python",
   "pygments_lexer": "ipython3",
   "version": "3.12.7"
  }
 },
 "nbformat": 4,
 "nbformat_minor": 5
}
